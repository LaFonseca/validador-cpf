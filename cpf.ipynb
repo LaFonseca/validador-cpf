{
 "cells": [
  {
   "cell_type": "code",
   "execution_count": 1,
   "metadata": {},
   "outputs": [
    {
     "name": "stdout",
     "output_type": "stream",
     "text": [
      "Collecting validate-docbr\n",
      "  Downloading validate_docbr-1.10.0-py3-none-any.whl (18 kB)\n",
      "Installing collected packages: validate-docbr\n",
      "Successfully installed validate-docbr-1.10.0\n",
      "Note: you may need to restart the kernel to use updated packages.\n"
     ]
    }
   ],
   "source": [
    "pip install validate-docbr"
   ]
  },
  {
   "cell_type": "code",
   "execution_count": 5,
   "metadata": {},
   "outputs": [
    {
     "data": {
      "text/plain": [
       "True"
      ]
     },
     "execution_count": 5,
     "metadata": {},
     "output_type": "execute_result"
    }
   ],
   "source": [
    "from validate_docbr import CPF\n",
    "\n",
    "cpf = CPF()\n",
    "\n",
    "# Validar CPF\n",
    "cpf.validate(\"012.345.678-90\")"
   ]
  },
  {
   "cell_type": "code",
   "execution_count": 11,
   "metadata": {},
   "outputs": [],
   "source": [
    "def valida_cpf(cpf):\n",
    "    if len(cpf) != 11:\n",
    "        return \"Número de caracteres inválido\"\n",
    "    elif not cpf.isdigit():\n",
    "        return \"CPF deve conter apenas números\"\n",
    "    else:\n",
    "        # Calcula o primeiro dígito\n",
    "        soma = 0\n",
    "        for i in range(9):\n",
    "            soma += int(cpf[i]) * (10 - i)\n",
    "        resto = 11 - (soma % 11)\n",
    "        if resto == 10 or resto == 11:\n",
    "            resto = 0\n",
    "        if resto != int(cpf[9]):\n",
    "            return \"CPF inválido\"\n",
    "        # Calcula o segundo dígito\n",
    "        soma = 0\n",
    "        for i in range(10):\n",
    "            soma += int(cpf[i]) * (11 - i)\n",
    "        resto = 11 - (soma % 11)\n",
    "        if resto == 10 or resto == 11:\n",
    "            resto = 0\n",
    "        if resto != int(cpf[10]):\n",
    "            return \"CPF inválido\"\n",
    "        return \"CPF válido\""
   ]
  },
  {
   "cell_type": "code",
   "execution_count": 12,
   "metadata": {},
   "outputs": [
    {
     "name": "stdout",
     "output_type": "stream",
     "text": [
      "CPF inválido\n"
     ]
    }
   ],
   "source": [
    "cpf = \"12345678912\"\n",
    "resultado = valida_cpf(cpf)\n",
    "print(resultado)  "
   ]
  }
 ],
 "metadata": {
  "kernelspec": {
   "display_name": "Python 3",
   "language": "python",
   "name": "python3"
  },
  "language_info": {
   "codemirror_mode": {
    "name": "ipython",
    "version": 3
   },
   "file_extension": ".py",
   "mimetype": "text/x-python",
   "name": "python",
   "nbconvert_exporter": "python",
   "pygments_lexer": "ipython3",
   "version": "3.11.2"
  },
  "orig_nbformat": 4
 },
 "nbformat": 4,
 "nbformat_minor": 2
}
